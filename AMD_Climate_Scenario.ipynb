{
 "cells": [
  {
   "attachments": {},
   "cell_type": "markdown",
   "id": "2ce20865",
   "metadata": {},
   "source": [
    "# 気候変化シナリオデータセット\n",
    "農研機構が提供するメッシュ農業気象データから、気候変化シナリオデータを取得します。\n",
    "- 事前にメッシュ農業気象データのユーザー登録が必要です\n",
    "- メッシュ農業気象データ専用のPythonモジュール『AMD_Tools3.py』を使用します\n",
    "\n",
    "[メッシュ農業気象データ公式サイト](https://amu.rd.naro.go.jp/wiki_open/doku.php?id=start)\n",
    "\n",
    "### 準備"
   ]
  },
  {
   "cell_type": "code",
   "execution_count": null,
   "id": "4a6be203",
   "metadata": {},
   "outputs": [],
   "source": [
    "import os\n",
    "import AMD_Tools3 as AMD\n",
    "import numpy as np\n",
    "import pandas as pd"
   ]
  },
  {
   "cell_type": "code",
   "execution_count": null,
   "id": "40165a8f",
   "metadata": {},
   "outputs": [],
   "source": [
    "###パラメータ\n",
    "# 地点（つくば）\n",
    "loc_lat = 36.057\n",
    "loc_lon = 140.125\n",
    "\n",
    "# 期間\n",
    "cur_years = np.arange(2001, 2021)\n",
    "cur_start = \"{}-01-01\"\n",
    "cur_end   = \"{}-12-31\"\n",
    "rcp_years = np.arange(2051, 2071)\n",
    "rcp_start = \"{}-01-01\"\n",
    "rcp_end   = \"{}-12-31\"\n",
    "\n",
    "# 日最高気温、日降水量\n",
    "elements = [\"TMP_max\", \"APCP\"]\n",
    "\n",
    "# 気候変化シナリオのパラメータ\n",
    "models = ['MIROC5']\n",
    "scenarios = ['RCP2.6', 'RCP8.5']\n",
    "\n",
    "## AMD用変数\n",
    "lalodomain = [loc_lat, loc_lat, loc_lon, loc_lon]\n",
    "\n",
    "### 出力ファイル\n",
    "outdir = \"data\"\n",
    "os.makedirs(outdir, exist_ok=True)\n",
    "outfile1 = \"tsukuba_anl_{}.csv\"\n",
    "outfile2 = \"tsukuba_{}_{}_{}.csv\""
   ]
  },
  {
   "cell_type": "markdown",
   "id": "b6dd59ca",
   "metadata": {},
   "source": [
    "### 過去20年分の実績データを取得\n",
    "- データをまとめて20年分取ろうとすると、非常に時間がかかる\n",
    "- データは1年ずつ取得した方が圧倒的に早い"
   ]
  },
  {
   "cell_type": "code",
   "execution_count": null,
   "id": "757f7aec",
   "metadata": {},
   "outputs": [],
   "source": [
    "for year in cur_years:\n",
    "    data1 = None\n",
    "    timedomain1 = [cur_start.format(year), cur_end.format(year)]\n",
    "\n",
    "    for element in elements:\n",
    "        val, tim, lat, lon = AMD.GetMetData(element, timedomain1, lalodomain, isTile=True)\n",
    "        if data1 is None:\n",
    "            data1 = pd.DataFrame({'date':tim, element:val[:,0,0]})\n",
    "        else:\n",
    "            data1[element] = val[:,0,0]\n",
    "\n",
    "    if data1 is not None:\n",
    "        data1.to_csv(os.path.join(outdir, outfile1.format(year)), index=False)"
   ]
  },
  {
   "cell_type": "markdown",
   "id": "16d2a3e1",
   "metadata": {},
   "source": [
    "### 気候変化シナリオから20年分のデータを取得\n",
    "- 実績データの50年後を取得する\n",
    "- データをまとめて20年分取ろうとすると、非常に時間がかかる\n",
    "- データは1年ずつ取得した方が圧倒的に早い"
   ]
  },
  {
   "cell_type": "code",
   "execution_count": null,
   "id": "2a4c3097",
   "metadata": {},
   "outputs": [],
   "source": [
    "for year in rcp_years:\n",
    "    timedomain2 = [rcp_start.format(year), rcp_end.format(year)]\n",
    "\n",
    "    for model in models:\n",
    "        for scenario in scenarios:        \n",
    "            data2 = None\n",
    "            for element in elements:\n",
    "                val, tim, lat, lon = AMD.GetSceData(element, timedomain2, lalodomain, model, scenario, isTile=True)\n",
    "                if data2 is None:\n",
    "                    data2 = pd.DataFrame({'date':tim, element:val[:,0,0]})\n",
    "                else:\n",
    "                    data2[element] = val[:,0,0]\n",
    "\n",
    "            if data2 is not None:\n",
    "                data2.to_csv(os.path.join(outdir, outfile2.format(model,scenario,year)), index=False)"
   ]
  },
  {
   "cell_type": "code",
   "execution_count": null,
   "id": "6b8c8193",
   "metadata": {},
   "outputs": [],
   "source": []
  }
 ],
 "metadata": {
  "kernelspec": {
   "display_name": "Python 3.9.13 64-bit ('base')",
   "language": "python",
   "name": "python3"
  },
  "language_info": {
   "codemirror_mode": {
    "name": "ipython",
    "version": 3
   },
   "file_extension": ".py",
   "mimetype": "text/x-python",
   "name": "python",
   "nbconvert_exporter": "python",
   "pygments_lexer": "ipython3",
   "version": "3.9.13"
  },
  "vscode": {
   "interpreter": {
    "hash": "c64ed46b4d860807c891de385e66064d7528666910841ed0c90eea877e9f8c15"
   }
  }
 },
 "nbformat": 4,
 "nbformat_minor": 5
}
